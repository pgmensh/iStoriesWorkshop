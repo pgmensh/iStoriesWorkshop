{
 "cells": [
  {
   "cell_type": "markdown",
   "id": "3fefccf1",
   "metadata": {},
   "source": [
    "Bubble sort"
   ]
  },
  {
   "cell_type": "code",
   "execution_count": 15,
   "id": "d8416e64",
   "metadata": {},
   "outputs": [],
   "source": [
    "def bubble_sort(my_list):\n",
    "    for run in range(len(my_list) - 1):\n",
    "        for i in range(len(my_list)- 1 - run):\n",
    "            #print(f\"Comparing {my_list[i]} and {my_list[i+1]}\")\n",
    "            if my_list[i]>my_list[i+1]:\n",
    "                my_list[i],my_list[i+1]=my_list[i+1],my_list[i]\n",
    "    return my_list"
   ]
  },
  {
   "cell_type": "code",
   "execution_count": 16,
   "id": "5159a190",
   "metadata": {},
   "outputs": [],
   "source": [
    "my_list = [6, 7, 1, 3, 8, 25, 12]"
   ]
  },
  {
   "cell_type": "code",
   "execution_count": 17,
   "id": "2511cd28",
   "metadata": {},
   "outputs": [
    {
     "data": {
      "text/plain": [
       "[1, 3, 6, 7, 8, 12, 25]"
      ]
     },
     "execution_count": 17,
     "metadata": {},
     "output_type": "execute_result"
    }
   ],
   "source": [
    "bubble_sort(my_list)"
   ]
  },
  {
   "cell_type": "code",
   "execution_count": 18,
   "id": "48db6b41",
   "metadata": {},
   "outputs": [],
   "source": [
    "my_list = [6, 7, 5, 20, 1, 3, 8, 25, 12]"
   ]
  },
  {
   "cell_type": "code",
   "execution_count": 19,
   "id": "104c36bb",
   "metadata": {},
   "outputs": [
    {
     "data": {
      "text/plain": [
       "[1, 3, 5, 6, 7, 8, 12, 20, 25]"
      ]
     },
     "execution_count": 19,
     "metadata": {},
     "output_type": "execute_result"
    }
   ],
   "source": [
    "my_list.sort()\n",
    "my_list"
   ]
  },
  {
   "cell_type": "code",
   "execution_count": 20,
   "id": "7e57d7d3",
   "metadata": {},
   "outputs": [
    {
     "data": {
      "text/plain": [
       "[1, 3, 5, 6, 7, 8, 12, 20, 25]"
      ]
     },
     "execution_count": 20,
     "metadata": {},
     "output_type": "execute_result"
    }
   ],
   "source": [
    "my_list = [6, 7, 5, 20, 1, 3, 8, 25, 12]\n",
    "sorted(my_list)"
   ]
  },
  {
   "cell_type": "code",
   "execution_count": 21,
   "id": "ce6a3506",
   "metadata": {},
   "outputs": [
    {
     "data": {
      "text/plain": [
       "[6, 7, 5, 20, 1, 3, 8, 25, 12]"
      ]
     },
     "execution_count": 21,
     "metadata": {},
     "output_type": "execute_result"
    }
   ],
   "source": [
    "my_list"
   ]
  },
  {
   "cell_type": "code",
   "execution_count": 22,
   "id": "c65e21d8",
   "metadata": {},
   "outputs": [
    {
     "data": {
      "text/plain": [
       "[' ',\n",
       " 'I',\n",
       " 'S',\n",
       " 'a',\n",
       " 'e',\n",
       " 'i',\n",
       " 'm',\n",
       " 'n',\n",
       " 'o',\n",
       " 'o',\n",
       " 'p',\n",
       " 'r',\n",
       " 'r',\n",
       " 's',\n",
       " 't',\n",
       " 't',\n",
       " 't']"
      ]
     },
     "execution_count": 22,
     "metadata": {},
     "output_type": "execute_result"
    }
   ],
   "source": [
    "string = 'Important Stories'\n",
    "sorted(string)"
   ]
  },
  {
   "cell_type": "code",
   "execution_count": 24,
   "id": "723cb1b1",
   "metadata": {},
   "outputs": [
    {
     "data": {
      "text/plain": [
       "['fio1', 'fio2', 'fio3']"
      ]
     },
     "execution_count": 24,
     "metadata": {},
     "output_type": "execute_result"
    }
   ],
   "source": [
    "fio_dict = {'fio1' : 'val1', 'fio2': 'val2', 'fio3':'val3'}\n",
    "sorted(fio_dict)"
   ]
  },
  {
   "cell_type": "code",
   "execution_count": 25,
   "id": "78961973",
   "metadata": {},
   "outputs": [
    {
     "data": {
      "text/plain": [
       "[25, 20, 12, 8, 7, 6, 5, 3, 1]"
      ]
     },
     "execution_count": 25,
     "metadata": {},
     "output_type": "execute_result"
    }
   ],
   "source": [
    "my_list = [6, 7, 5, 20, 1, 3, 8, 25, 12]\n",
    "sorted(my_list, reverse = True)"
   ]
  },
  {
   "cell_type": "code",
   "execution_count": 27,
   "id": "60bcecfc",
   "metadata": {},
   "outputs": [
    {
     "data": {
      "text/plain": [
       "[' ',\n",
       " 'a',\n",
       " 'e',\n",
       " 'I',\n",
       " 'i',\n",
       " 'm',\n",
       " 'n',\n",
       " 'o',\n",
       " 'o',\n",
       " 'p',\n",
       " 'r',\n",
       " 'r',\n",
       " 'S',\n",
       " 's',\n",
       " 't',\n",
       " 't',\n",
       " 't']"
      ]
     },
     "execution_count": 27,
     "metadata": {},
     "output_type": "execute_result"
    }
   ],
   "source": [
    "string = 'Important Stories'\n",
    "sorted(string, key = str.lower)"
   ]
  },
  {
   "cell_type": "code",
   "execution_count": 31,
   "id": "f7348516",
   "metadata": {},
   "outputs": [
    {
     "data": {
      "text/plain": [
       "[['fio1', '2val'], ['fio2', '1val'], ['fio3', '3val']]"
      ]
     },
     "execution_count": 31,
     "metadata": {},
     "output_type": "execute_result"
    }
   ],
   "source": [
    "fio_list = [['fio1', '2val'], ['fio2', '1val'], ['fio3', '3val']]\n",
    "sorted(fio_list)"
   ]
  },
  {
   "cell_type": "code",
   "execution_count": 32,
   "id": "2f79e251",
   "metadata": {},
   "outputs": [],
   "source": [
    "def value_sort(i):\n",
    "    return i[1]"
   ]
  },
  {
   "cell_type": "code",
   "execution_count": 33,
   "id": "79ff6af6",
   "metadata": {},
   "outputs": [
    {
     "data": {
      "text/plain": [
       "[['fio2', '1val'], ['fio1', '2val'], ['fio3', '3val']]"
      ]
     },
     "execution_count": 33,
     "metadata": {},
     "output_type": "execute_result"
    }
   ],
   "source": [
    "sorted(fio_list, key = value_sort)"
   ]
  },
  {
   "cell_type": "code",
   "execution_count": 36,
   "id": "219c5fb1",
   "metadata": {},
   "outputs": [
    {
     "data": {
      "text/plain": [
       "[{'fio': 'val2', 'income': 22},\n",
       " {'fio': 'val1', 'income': 123},\n",
       " {'fio': 'val3', 'income': 3334}]"
      ]
     },
     "execution_count": 36,
     "metadata": {},
     "output_type": "execute_result"
    }
   ],
   "source": [
    "fio_dict = [{'fio' : 'val1', 'income': 123},\n",
    "            {'fio': 'val2', 'income': 22},\n",
    "            {'fio':'val3', 'income': 3334}]\n",
    "\n",
    "def income_dict_sort(i):\n",
    "    return i.get('income')\n",
    "\n",
    "sorted(fio_dict, key = income_dict_sort)"
   ]
  },
  {
   "cell_type": "code",
   "execution_count": null,
   "id": "a71f31c4",
   "metadata": {},
   "outputs": [],
   "source": []
  }
 ],
 "metadata": {
  "kernelspec": {
   "display_name": "Python 3 (ipykernel)",
   "language": "python",
   "name": "python3"
  },
  "language_info": {
   "codemirror_mode": {
    "name": "ipython",
    "version": 3
   },
   "file_extension": ".py",
   "mimetype": "text/x-python",
   "name": "python",
   "nbconvert_exporter": "python",
   "pygments_lexer": "ipython3",
   "version": "3.9.13"
  }
 },
 "nbformat": 4,
 "nbformat_minor": 5
}
