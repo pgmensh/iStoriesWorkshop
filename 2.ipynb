{
 "cells": [
  {
   "cell_type": "markdown",
   "id": "aef1daea",
   "metadata": {},
   "source": [
    "# Строки"
   ]
  },
  {
   "cell_type": "markdown",
   "id": "442d26e5",
   "metadata": {},
   "source": [
    "Как выглядят строки"
   ]
  },
  {
   "cell_type": "code",
   "execution_count": 3,
   "id": "8c4625d8",
   "metadata": {},
   "outputs": [],
   "source": [
    "a = 'важные истории' #строки заключены в кавычки"
   ]
  },
  {
   "cell_type": "code",
   "execution_count": 2,
   "id": "27b36518",
   "metadata": {},
   "outputs": [],
   "source": [
    "b = '0123456789'"
   ]
  },
  {
   "cell_type": "code",
   "execution_count": 4,
   "id": "e9721d03",
   "metadata": {},
   "outputs": [
    {
     "data": {
      "text/plain": [
       "str"
      ]
     },
     "execution_count": 4,
     "metadata": {},
     "output_type": "execute_result"
    }
   ],
   "source": [
    "type(a)"
   ]
  },
  {
   "cell_type": "code",
   "execution_count": 5,
   "id": "58932529",
   "metadata": {},
   "outputs": [
    {
     "data": {
      "text/plain": [
       "str"
      ]
     },
     "execution_count": 5,
     "metadata": {},
     "output_type": "execute_result"
    }
   ],
   "source": [
    "type(b)"
   ]
  },
  {
   "cell_type": "markdown",
   "id": "bc58288b",
   "metadata": {},
   "source": [
    "Сложение строк"
   ]
  },
  {
   "cell_type": "code",
   "execution_count": 7,
   "id": "df84a40d",
   "metadata": {},
   "outputs": [
    {
     "data": {
      "text/plain": [
       "'важные истории'"
      ]
     },
     "execution_count": 7,
     "metadata": {},
     "output_type": "execute_result"
    }
   ],
   "source": [
    "a = 'важные'\n",
    "b = ' истории'\n",
    "c = a + b\n",
    "c"
   ]
  },
  {
   "cell_type": "markdown",
   "id": "985575e4",
   "metadata": {},
   "source": [
    "Дублирование строк"
   ]
  },
  {
   "cell_type": "code",
   "execution_count": 12,
   "id": "0c56462e",
   "metadata": {},
   "outputs": [
    {
     "data": {
      "text/plain": [
       "'важные истории важные истории важные истории '"
      ]
     },
     "execution_count": 12,
     "metadata": {},
     "output_type": "execute_result"
    }
   ],
   "source": [
    "x = (c + ' ') * 3\n",
    "x"
   ]
  },
  {
   "cell_type": "markdown",
   "id": "e72e231b",
   "metadata": {},
   "source": [
    "Длина строки"
   ]
  },
  {
   "cell_type": "code",
   "execution_count": 13,
   "id": "9f06655f",
   "metadata": {},
   "outputs": [
    {
     "data": {
      "text/plain": [
       "45"
      ]
     },
     "execution_count": 13,
     "metadata": {},
     "output_type": "execute_result"
    }
   ],
   "source": [
    "len(x)"
   ]
  },
  {
   "cell_type": "markdown",
   "id": "69fbb446",
   "metadata": {},
   "source": [
    "Индексы"
   ]
  },
  {
   "cell_type": "code",
   "execution_count": 15,
   "id": "b09ce2f0",
   "metadata": {},
   "outputs": [
    {
     "data": {
      "text/plain": [
       "4"
      ]
     },
     "execution_count": 15,
     "metadata": {},
     "output_type": "execute_result"
    }
   ],
   "source": [
    "x.index('ы')"
   ]
  },
  {
   "cell_type": "code",
   "execution_count": 16,
   "id": "0a742843",
   "metadata": {},
   "outputs": [
    {
     "data": {
      "text/plain": [
       "'н'"
      ]
     },
     "execution_count": 16,
     "metadata": {},
     "output_type": "execute_result"
    }
   ],
   "source": [
    "x[3]"
   ]
  },
  {
   "cell_type": "code",
   "execution_count": 17,
   "id": "ba20c99a",
   "metadata": {},
   "outputs": [
    {
     "data": {
      "text/plain": [
       "'с'"
      ]
     },
     "execution_count": 17,
     "metadata": {},
     "output_type": "execute_result"
    }
   ],
   "source": [
    "x[-7]"
   ]
  },
  {
   "cell_type": "markdown",
   "id": "08b9fe0c",
   "metadata": {},
   "source": [
    "Извлечение среза"
   ]
  },
  {
   "cell_type": "code",
   "execution_count": 26,
   "id": "eaf3295f",
   "metadata": {},
   "outputs": [],
   "source": [
    "#a[x:y] - x - индекс 1 символа, y - последнего + 1 . Шаг среза z: a[x:y:z]"
   ]
  },
  {
   "cell_type": "code",
   "execution_count": 19,
   "id": "8277b8e2",
   "metadata": {},
   "outputs": [
    {
     "data": {
      "text/plain": [
       "'важные'"
      ]
     },
     "execution_count": 19,
     "metadata": {},
     "output_type": "execute_result"
    }
   ],
   "source": [
    "x[0:6]"
   ]
  },
  {
   "cell_type": "code",
   "execution_count": 21,
   "id": "73b53fe0",
   "metadata": {},
   "outputs": [
    {
     "data": {
      "text/plain": [
       "5"
      ]
     },
     "execution_count": 21,
     "metadata": {},
     "output_type": "execute_result"
    }
   ],
   "source": [
    "x.index('е')"
   ]
  },
  {
   "cell_type": "code",
   "execution_count": 22,
   "id": "1f71a4c1",
   "metadata": {},
   "outputs": [
    {
     "data": {
      "text/plain": [
       "'важные истории важные истории важные истории '"
      ]
     },
     "execution_count": 22,
     "metadata": {},
     "output_type": "execute_result"
    }
   ],
   "source": [
    "x[:]"
   ]
  },
  {
   "cell_type": "code",
   "execution_count": 24,
   "id": "0bee0628",
   "metadata": {},
   "outputs": [
    {
     "data": {
      "text/plain": [
       "'истории важные истории важные истории '"
      ]
     },
     "execution_count": 24,
     "metadata": {},
     "output_type": "execute_result"
    }
   ],
   "source": [
    "x[7:]"
   ]
  },
  {
   "cell_type": "code",
   "execution_count": 25,
   "id": "a08e40fd",
   "metadata": {},
   "outputs": [
    {
     "data": {
      "text/plain": [
       "'важные '"
      ]
     },
     "execution_count": 25,
     "metadata": {},
     "output_type": "execute_result"
    }
   ],
   "source": [
    "x[:7]"
   ]
  },
  {
   "cell_type": "code",
   "execution_count": 28,
   "id": "47d5a061",
   "metadata": {},
   "outputs": [
    {
     "data": {
      "text/plain": [
       "'вжы с'"
      ]
     },
     "execution_count": 28,
     "metadata": {},
     "output_type": "execute_result"
    }
   ],
   "source": [
    "x[0:10:2]"
   ]
  },
  {
   "cell_type": "markdown",
   "id": "8849eee6",
   "metadata": {},
   "source": [
    "Замена шаблона"
   ]
  },
  {
   "cell_type": "code",
   "execution_count": 31,
   "id": "91bf2803",
   "metadata": {},
   "outputs": [
    {
     "data": {
      "text/plain": [
       "'веселые истории веселые истории веселые истории '"
      ]
     },
     "execution_count": 31,
     "metadata": {},
     "output_type": "execute_result"
    }
   ],
   "source": [
    "s = x.replace('важные', 'веселые')\n",
    "s"
   ]
  },
  {
   "cell_type": "markdown",
   "id": "d6fd5698",
   "metadata": {},
   "source": [
    "Регистр"
   ]
  },
  {
   "cell_type": "code",
   "execution_count": 33,
   "id": "2738e2b2",
   "metadata": {},
   "outputs": [
    {
     "data": {
      "text/plain": [
       "'ВЕСЕЛЫЕ ИСТОРИИ ВЕСЕЛЫЕ ИСТОРИИ ВЕСЕЛЫЕ ИСТОРИИ '"
      ]
     },
     "execution_count": 33,
     "metadata": {},
     "output_type": "execute_result"
    }
   ],
   "source": [
    "u = s.upper()\n",
    "u"
   ]
  },
  {
   "cell_type": "code",
   "execution_count": 34,
   "id": "014a682e",
   "metadata": {},
   "outputs": [
    {
     "data": {
      "text/plain": [
       "'веселые истории веселые истории веселые истории '"
      ]
     },
     "execution_count": 34,
     "metadata": {},
     "output_type": "execute_result"
    }
   ],
   "source": [
    "l = u.lower()\n",
    "l"
   ]
  },
  {
   "cell_type": "markdown",
   "id": "1e803229",
   "metadata": {},
   "source": [
    "Разделение строк"
   ]
  },
  {
   "cell_type": "code",
   "execution_count": 35,
   "id": "b7853938",
   "metadata": {},
   "outputs": [
    {
     "data": {
      "text/plain": [
       "['ВЕСЕЛЫЕ', 'ИСТОРИИ', 'ВЕСЕЛЫЕ', 'ИСТОРИИ', 'ВЕСЕЛЫЕ', 'ИСТОРИИ']"
      ]
     },
     "execution_count": 35,
     "metadata": {},
     "output_type": "execute_result"
    }
   ],
   "source": [
    "u.split()"
   ]
  },
  {
   "cell_type": "code",
   "execution_count": 37,
   "id": "310b1fb6",
   "metadata": {},
   "outputs": [
    {
     "data": {
      "text/plain": [
       "'ВЕСЕЛЫЕ.ИСТОРИИ.ВЕСЕЛЫЕ.ИСТОРИИ.ВЕСЕЛЫЕ.ИСТОРИИ.'"
      ]
     },
     "execution_count": 37,
     "metadata": {},
     "output_type": "execute_result"
    }
   ],
   "source": [
    "d = u.replace(' ', '.')\n",
    "d"
   ]
  },
  {
   "cell_type": "code",
   "execution_count": 40,
   "id": "83253f7e",
   "metadata": {},
   "outputs": [
    {
     "data": {
      "text/plain": [
       "['ВЕСЕЛЫЕ', 'ИСТОРИИ', 'ВЕСЕЛЫЕ', 'ИСТОРИИ', 'ВЕСЕЛЫЕ', 'ИСТОРИИ', '']"
      ]
     },
     "execution_count": 40,
     "metadata": {},
     "output_type": "execute_result"
    }
   ],
   "source": [
    "r = d.split('.')\n",
    "r"
   ]
  },
  {
   "cell_type": "code",
   "execution_count": null,
   "id": "1763bc7a",
   "metadata": {},
   "outputs": [],
   "source": []
  }
 ],
 "metadata": {
  "kernelspec": {
   "display_name": "Python 3 (ipykernel)",
   "language": "python",
   "name": "python3"
  },
  "language_info": {
   "codemirror_mode": {
    "name": "ipython",
    "version": 3
   },
   "file_extension": ".py",
   "mimetype": "text/x-python",
   "name": "python",
   "nbconvert_exporter": "python",
   "pygments_lexer": "ipython3",
   "version": "3.9.13"
  }
 },
 "nbformat": 4,
 "nbformat_minor": 5
}
