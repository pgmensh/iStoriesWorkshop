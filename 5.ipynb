{
 "cells": [
  {
   "cell_type": "markdown",
   "id": "07f3da50",
   "metadata": {},
   "source": [
    "Списки"
   ]
  },
  {
   "cell_type": "code",
   "execution_count": 2,
   "id": "551f395e",
   "metadata": {},
   "outputs": [
    {
     "data": {
      "text/plain": [
       "list"
      ]
     },
     "execution_count": 2,
     "metadata": {},
     "output_type": "execute_result"
    }
   ],
   "source": [
    "type([1, 2, 3, 4.0, 'ssgsgr', [0, 1, 2, 3]])"
   ]
  },
  {
   "cell_type": "code",
   "execution_count": 3,
   "id": "f71653d4",
   "metadata": {},
   "outputs": [],
   "source": [
    "my_list = []"
   ]
  },
  {
   "cell_type": "code",
   "execution_count": 4,
   "id": "f179a046",
   "metadata": {},
   "outputs": [
    {
     "data": {
      "text/plain": [
       "list"
      ]
     },
     "execution_count": 4,
     "metadata": {},
     "output_type": "execute_result"
    }
   ],
   "source": [
    "type(my_list)"
   ]
  },
  {
   "cell_type": "code",
   "execution_count": 5,
   "id": "e6b52221",
   "metadata": {},
   "outputs": [
    {
     "data": {
      "text/plain": [
       "list"
      ]
     },
     "execution_count": 5,
     "metadata": {},
     "output_type": "execute_result"
    }
   ],
   "source": [
    "my_list2 = list()\n",
    "type(my_list2)"
   ]
  },
  {
   "cell_type": "code",
   "execution_count": 6,
   "id": "4daa48c2",
   "metadata": {},
   "outputs": [
    {
     "name": "stdout",
     "output_type": "stream",
     "text": [
      "<class 'int'> 1\n",
      "<class 'int'> 2\n",
      "<class 'int'> 3\n",
      "<class 'float'> 4.0\n",
      "<class 'str'> ssgsgr\n",
      "<class 'list'> [0, 1, 2, 3]\n"
     ]
    }
   ],
   "source": [
    "my_list = [1, 2, 3, 4.0, 'ssgsgr', [0, 1, 2, 3]]\n",
    "for i in my_list:\n",
    "    print(type(i), i)"
   ]
  },
  {
   "cell_type": "code",
   "execution_count": 7,
   "id": "25a08359",
   "metadata": {},
   "outputs": [
    {
     "data": {
      "text/plain": [
       "6"
      ]
     },
     "execution_count": 7,
     "metadata": {},
     "output_type": "execute_result"
    }
   ],
   "source": [
    "len(my_list)"
   ]
  },
  {
   "cell_type": "code",
   "execution_count": 8,
   "id": "a03baea8",
   "metadata": {},
   "outputs": [
    {
     "data": {
      "text/plain": [
       "4.0"
      ]
     },
     "execution_count": 8,
     "metadata": {},
     "output_type": "execute_result"
    }
   ],
   "source": [
    "my_list[3]"
   ]
  },
  {
   "cell_type": "code",
   "execution_count": 9,
   "id": "c4aa076e",
   "metadata": {},
   "outputs": [
    {
     "data": {
      "text/plain": [
       "2"
      ]
     },
     "execution_count": 9,
     "metadata": {},
     "output_type": "execute_result"
    }
   ],
   "source": [
    "my_list.index(3)"
   ]
  },
  {
   "cell_type": "code",
   "execution_count": 12,
   "id": "521fcf84",
   "metadata": {},
   "outputs": [
    {
     "data": {
      "text/plain": [
       "[1,\n",
       " 2,\n",
       " 3,\n",
       " 4.0,\n",
       " 'ssgsgr',\n",
       " [0, 1, 2, 3],\n",
       " 'one_more_line',\n",
       " 'one_more_line',\n",
       " 'one_more_line']"
      ]
     },
     "execution_count": 12,
     "metadata": {},
     "output_type": "execute_result"
    }
   ],
   "source": [
    "my_list.append('one_more_line')\n",
    "my_list"
   ]
  },
  {
   "cell_type": "code",
   "execution_count": 13,
   "id": "19a74ae8",
   "metadata": {},
   "outputs": [],
   "source": [
    "my_list.insert(5, 5)"
   ]
  },
  {
   "cell_type": "code",
   "execution_count": 14,
   "id": "f9d7bafd",
   "metadata": {},
   "outputs": [
    {
     "data": {
      "text/plain": [
       "[1,\n",
       " 2,\n",
       " 3,\n",
       " 4.0,\n",
       " 'ssgsgr',\n",
       " 5,\n",
       " [0, 1, 2, 3],\n",
       " 'one_more_line',\n",
       " 'one_more_line',\n",
       " 'one_more_line']"
      ]
     },
     "execution_count": 14,
     "metadata": {},
     "output_type": "execute_result"
    }
   ],
   "source": [
    "my_list"
   ]
  },
  {
   "cell_type": "code",
   "execution_count": 15,
   "id": "c45393e6",
   "metadata": {},
   "outputs": [],
   "source": [
    "my_list.remove(5)"
   ]
  },
  {
   "cell_type": "code",
   "execution_count": 16,
   "id": "5eb378f4",
   "metadata": {},
   "outputs": [
    {
     "data": {
      "text/plain": [
       "[1,\n",
       " 2,\n",
       " 3,\n",
       " 4.0,\n",
       " 'ssgsgr',\n",
       " [0, 1, 2, 3],\n",
       " 'one_more_line',\n",
       " 'one_more_line',\n",
       " 'one_more_line']"
      ]
     },
     "execution_count": 16,
     "metadata": {},
     "output_type": "execute_result"
    }
   ],
   "source": [
    "my_list"
   ]
  },
  {
   "cell_type": "code",
   "execution_count": 19,
   "id": "16649618",
   "metadata": {},
   "outputs": [
    {
     "data": {
      "text/plain": [
       "[0, 1, 2, 3, 5]"
      ]
     },
     "execution_count": 19,
     "metadata": {},
     "output_type": "execute_result"
    }
   ],
   "source": [
    "number_list = [0, 3, 5, 2, 1]\n",
    "sorted_list = sorted(number_list)\n",
    "sorted_list"
   ]
  },
  {
   "cell_type": "code",
   "execution_count": null,
   "id": "199f8511",
   "metadata": {},
   "outputs": [],
   "source": [
    "str_list = ['z', 'x', 'l', 'd']\n",
    "sorted(str_list)"
   ]
  },
  {
   "cell_type": "code",
   "execution_count": 5,
   "id": "5ba97c9c",
   "metadata": {},
   "outputs": [
    {
     "name": "stdout",
     "output_type": "stream",
     "text": [
      "Please type an even number: 3\n",
      "The number 3 is uneven\n",
      "Please type an even number: 2\n",
      "Please type an even number: 6\n",
      "Please type an even number: 7\n",
      "The number 7 is uneven\n",
      "Please type an even number: 10\n",
      "[2, 6, 10]\n"
     ]
    }
   ],
   "source": [
    "new_list = []\n",
    "\n",
    "for num in range(5):\n",
    "    el = int(input('Please type an even number: '))\n",
    "    if el%2 == 0: \n",
    "        new_list.append(el)\n",
    "    else:\n",
    "        print(f'The number {el} is uneven')\n",
    "print(new_list)"
   ]
  },
  {
   "cell_type": "code",
   "execution_count": 8,
   "id": "e05e95d7",
   "metadata": {},
   "outputs": [
    {
     "data": {
      "text/plain": [
       "[4, 23, 56]"
      ]
     },
     "execution_count": 8,
     "metadata": {},
     "output_type": "execute_result"
    }
   ],
   "source": [
    "raw_list = ['4%', '23%', '056%']\n",
    "clean_list = []\n",
    "for el in raw_list:\n",
    "    x = int(el.replace('%', ''))\n",
    "    clean_list.append(x)\n",
    "clean_list"
   ]
  },
  {
   "cell_type": "code",
   "execution_count": 12,
   "id": "136a5ff4",
   "metadata": {},
   "outputs": [
    {
     "data": {
      "text/plain": [
       "500000"
      ]
     },
     "execution_count": 12,
     "metadata": {},
     "output_type": "execute_result"
    }
   ],
   "source": [
    "crimes = [10000, 3000, 500000]\n",
    "max(crimes)"
   ]
  },
  {
   "cell_type": "code",
   "execution_count": 20,
   "id": "1c2a21c8",
   "metadata": {},
   "outputs": [
    {
     "name": "stdout",
     "output_type": "stream",
     "text": [
      "[20000.0, 300000.0, 333333.3333333333]\n",
      "Max crimes per population is 333333, it's in the 3rd city\n"
     ]
    },
    {
     "data": {
      "text/plain": [
       "[[10000, 3000, 500000],\n",
       " [500, 10, 1500],\n",
       " [20000.0, 300000.0, 333333.3333333333]]"
      ]
     },
     "execution_count": 20,
     "metadata": {},
     "output_type": "execute_result"
    }
   ],
   "source": [
    "population = [500, 10, 1500]\n",
    "normed_data = []\n",
    "\n",
    "for i in range(len(crimes)):\n",
    "    norm = crimes[i] / population[i] * 1000\n",
    "    normed_data.append(norm)\n",
    "    \n",
    "print(normed_data)\n",
    "maximum = max(normed_data)\n",
    "\n",
    "print(f\"Max crimes per population is {int(maximum)}, it's in the {normed_data.index(maximum)+1}rd city\")\n",
    "\n",
    "[crimes, population, normed_data]"
   ]
  },
  {
   "cell_type": "code",
   "execution_count": 22,
   "id": "4dddfb4e",
   "metadata": {},
   "outputs": [],
   "source": [
    "total_crimes = sum(crimes)"
   ]
  },
  {
   "cell_type": "code",
   "execution_count": 23,
   "id": "bfa6cea8",
   "metadata": {},
   "outputs": [],
   "source": [
    "total_population = sum(population)\n",
    "total_norm = total_crimes / total_population * 1000"
   ]
  },
  {
   "cell_type": "code",
   "execution_count": 24,
   "id": "e65bd893",
   "metadata": {},
   "outputs": [
    {
     "data": {
      "text/plain": [
       "255223.8805970149"
      ]
     },
     "execution_count": 24,
     "metadata": {},
     "output_type": "execute_result"
    }
   ],
   "source": [
    "total_norm"
   ]
  },
  {
   "cell_type": "code",
   "execution_count": null,
   "id": "14ed160b",
   "metadata": {},
   "outputs": [],
   "source": []
  }
 ],
 "metadata": {
  "kernelspec": {
   "display_name": "Python 3 (ipykernel)",
   "language": "python",
   "name": "python3"
  },
  "language_info": {
   "codemirror_mode": {
    "name": "ipython",
    "version": 3
   },
   "file_extension": ".py",
   "mimetype": "text/x-python",
   "name": "python",
   "nbconvert_exporter": "python",
   "pygments_lexer": "ipython3",
   "version": "3.9.13"
  }
 },
 "nbformat": 4,
 "nbformat_minor": 5
}
