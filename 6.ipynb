{
 "cells": [
  {
   "cell_type": "code",
   "execution_count": 1,
   "id": "7390390c",
   "metadata": {},
   "outputs": [
    {
     "data": {
      "text/plain": [
       "dict"
      ]
     },
     "execution_count": 1,
     "metadata": {},
     "output_type": "execute_result"
    }
   ],
   "source": [
    "new_dict = {}\n",
    "type(new_dict)"
   ]
  },
  {
   "cell_type": "code",
   "execution_count": 2,
   "id": "7e6d9903",
   "metadata": {},
   "outputs": [
    {
     "data": {
      "text/plain": [
       "{}"
      ]
     },
     "execution_count": 2,
     "metadata": {},
     "output_type": "execute_result"
    }
   ],
   "source": [
    "new_dict = dict()\n",
    "new_dict"
   ]
  },
  {
   "cell_type": "code",
   "execution_count": 4,
   "id": "f29c8455",
   "metadata": {},
   "outputs": [
    {
     "data": {
      "text/plain": [
       "{'fio1': 123, 'fio2': 321, 'fio3': 123456}"
      ]
     },
     "execution_count": 4,
     "metadata": {},
     "output_type": "execute_result"
    }
   ],
   "source": [
    "income = {'fio1': 123, 'fio2': 321, 'fio3': 123456}\n",
    "income"
   ]
  },
  {
   "cell_type": "code",
   "execution_count": 6,
   "id": "d311a3ff",
   "metadata": {},
   "outputs": [
    {
     "data": {
      "text/plain": [
       "321"
      ]
     },
     "execution_count": 6,
     "metadata": {},
     "output_type": "execute_result"
    }
   ],
   "source": [
    "income['fio2']"
   ]
  },
  {
   "cell_type": "code",
   "execution_count": 7,
   "id": "5e4ac4db",
   "metadata": {},
   "outputs": [
    {
     "data": {
      "text/plain": [
       "{'fio1': 123, 'fio2': 321, 'fio3': 123456, 'fio4': 4444}"
      ]
     },
     "execution_count": 7,
     "metadata": {},
     "output_type": "execute_result"
    }
   ],
   "source": [
    "income['fio4'] = 4444\n",
    "income"
   ]
  },
  {
   "cell_type": "code",
   "execution_count": 8,
   "id": "e53fdbbb",
   "metadata": {},
   "outputs": [
    {
     "ename": "KeyError",
     "evalue": "3",
     "output_type": "error",
     "traceback": [
      "\u001b[1;31m---------------------------------------------------------------------------\u001b[0m",
      "\u001b[1;31mKeyError\u001b[0m                                  Traceback (most recent call last)",
      "\u001b[1;32m~\\AppData\\Local\\Temp\\ipykernel_10876\\2831910164.py\u001b[0m in \u001b[0;36m<module>\u001b[1;34m\u001b[0m\n\u001b[1;32m----> 1\u001b[1;33m \u001b[0mincome\u001b[0m\u001b[1;33m[\u001b[0m\u001b[1;36m3\u001b[0m\u001b[1;33m]\u001b[0m\u001b[1;33m\u001b[0m\u001b[1;33m\u001b[0m\u001b[0m\n\u001b[0m",
      "\u001b[1;31mKeyError\u001b[0m: 3"
     ]
    }
   ],
   "source": [
    "income[3]"
   ]
  },
  {
   "cell_type": "code",
   "execution_count": 9,
   "id": "d20fa82d",
   "metadata": {},
   "outputs": [
    {
     "data": {
      "text/plain": [
       "4444"
      ]
     },
     "execution_count": 9,
     "metadata": {},
     "output_type": "execute_result"
    }
   ],
   "source": [
    "income.get('fio4', 'no such key')"
   ]
  },
  {
   "cell_type": "code",
   "execution_count": 10,
   "id": "63e3aab3",
   "metadata": {},
   "outputs": [
    {
     "data": {
      "text/plain": [
       "'no such key'"
      ]
     },
     "execution_count": 10,
     "metadata": {},
     "output_type": "execute_result"
    }
   ],
   "source": [
    "income.get('fio5', 'no such key')"
   ]
  },
  {
   "cell_type": "code",
   "execution_count": 11,
   "id": "fa9fb755",
   "metadata": {},
   "outputs": [
    {
     "data": {
      "text/plain": [
       "{'fio1': 123, 'fio2': 321, 'fio3': 123456, 'fio4': [4444, 4441, 4442]}"
      ]
     },
     "execution_count": 11,
     "metadata": {},
     "output_type": "execute_result"
    }
   ],
   "source": [
    "income['fio4'] = [4444, 4441, 4442]\n",
    "income"
   ]
  },
  {
   "cell_type": "code",
   "execution_count": 13,
   "id": "0b3b4f54",
   "metadata": {},
   "outputs": [
    {
     "data": {
      "text/plain": [
       "123456"
      ]
     },
     "execution_count": 13,
     "metadata": {},
     "output_type": "execute_result"
    }
   ],
   "source": [
    "income.pop('fio3')"
   ]
  },
  {
   "cell_type": "code",
   "execution_count": 14,
   "id": "5900f3de",
   "metadata": {},
   "outputs": [
    {
     "data": {
      "text/plain": [
       "{'fio1': 123, 'fio2': 321, 'fio4': [4444, 4441, 4442]}"
      ]
     },
     "execution_count": 14,
     "metadata": {},
     "output_type": "execute_result"
    }
   ],
   "source": [
    "income"
   ]
  },
  {
   "cell_type": "code",
   "execution_count": 15,
   "id": "c3a50ca8",
   "metadata": {},
   "outputs": [
    {
     "data": {
      "text/plain": [
       "dict_keys(['fio1', 'fio2', 'fio4'])"
      ]
     },
     "execution_count": 15,
     "metadata": {},
     "output_type": "execute_result"
    }
   ],
   "source": [
    "income.keys()"
   ]
  },
  {
   "cell_type": "code",
   "execution_count": 16,
   "id": "17891a4a",
   "metadata": {},
   "outputs": [
    {
     "data": {
      "text/plain": [
       "['fio1', 'fio2', 'fio4']"
      ]
     },
     "execution_count": 16,
     "metadata": {},
     "output_type": "execute_result"
    }
   ],
   "source": [
    "list(income.keys())"
   ]
  },
  {
   "cell_type": "code",
   "execution_count": 17,
   "id": "da2470c5",
   "metadata": {},
   "outputs": [
    {
     "data": {
      "text/plain": [
       "[123, 321, [4444, 4441, 4442]]"
      ]
     },
     "execution_count": 17,
     "metadata": {},
     "output_type": "execute_result"
    }
   ],
   "source": [
    "list(income.values())"
   ]
  },
  {
   "cell_type": "code",
   "execution_count": 19,
   "id": "48714d81",
   "metadata": {},
   "outputs": [
    {
     "data": {
      "text/plain": [
       "list"
      ]
     },
     "execution_count": 19,
     "metadata": {},
     "output_type": "execute_result"
    }
   ],
   "source": [
    "income_dict = {'fio1': [123, 321, 111], 'fio2': [213, 222, 231]}\n",
    "type(income_dict['fio2'])"
   ]
  },
  {
   "cell_type": "code",
   "execution_count": 20,
   "id": "a1f3c232",
   "metadata": {},
   "outputs": [
    {
     "name": "stdout",
     "output_type": "stream",
     "text": [
      "fio1 [123, 321, 111]\n",
      "fio2 [213, 222, 231]\n"
     ]
    }
   ],
   "source": [
    "for key, value in income_dict.items():\n",
    "    print(key, value)"
   ]
  },
  {
   "cell_type": "code",
   "execution_count": 25,
   "id": "4afab6fa",
   "metadata": {},
   "outputs": [
    {
     "name": "stdout",
     "output_type": "stream",
     "text": [
      "Min income of fio1 is 111\n",
      "Min income of fio2 is 213\n",
      "Min of 2 fio-s is 111, it's for the 1st fio\n"
     ]
    }
   ],
   "source": [
    "min_val = []\n",
    "for key, value in income_dict.items():\n",
    "    print(f\"Min income of {key} is {min(value)}\")\n",
    "    min_val.append(min(value))\n",
    "print(f\"Min of {len(income_dict)} fio-s is {min(min_val)}, it's for the {min_val.index(min(min_val)) + 1}st fio\")"
   ]
  },
  {
   "cell_type": "code",
   "execution_count": null,
   "id": "ba237768",
   "metadata": {},
   "outputs": [],
   "source": []
  }
 ],
 "metadata": {
  "kernelspec": {
   "display_name": "Python 3 (ipykernel)",
   "language": "python",
   "name": "python3"
  },
  "language_info": {
   "codemirror_mode": {
    "name": "ipython",
    "version": 3
   },
   "file_extension": ".py",
   "mimetype": "text/x-python",
   "name": "python",
   "nbconvert_exporter": "python",
   "pygments_lexer": "ipython3",
   "version": "3.9.13"
  }
 },
 "nbformat": 4,
 "nbformat_minor": 5
}
