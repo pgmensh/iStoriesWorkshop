{
 "cells": [
  {
   "cell_type": "markdown",
   "id": "d7e6d964",
   "metadata": {},
   "source": [
    "Задача: посчитать все гласные в строке"
   ]
  },
  {
   "cell_type": "code",
   "execution_count": 29,
   "id": "16069c5e",
   "metadata": {},
   "outputs": [],
   "source": [
    "poem = 'Буря мглою небо кроет, Вихри снежные крутя; То, как зверь, она завоет, То заплачет, как дитя. Выпьем, добрая подружка. Бедной юности моей'"
   ]
  },
  {
   "cell_type": "code",
   "execution_count": 30,
   "id": "7da6363e",
   "metadata": {},
   "outputs": [],
   "source": [
    "poem_len = len(poem)"
   ]
  },
  {
   "cell_type": "code",
   "execution_count": 31,
   "id": "97bf1c93",
   "metadata": {},
   "outputs": [
    {
     "data": {
      "text/plain": [
       "137"
      ]
     },
     "execution_count": 31,
     "metadata": {},
     "output_type": "execute_result"
    }
   ],
   "source": [
    "poem_len"
   ]
  },
  {
   "cell_type": "code",
   "execution_count": 32,
   "id": "176d81a1",
   "metadata": {},
   "outputs": [],
   "source": [
    "letter = 'я'"
   ]
  },
  {
   "cell_type": "code",
   "execution_count": 33,
   "id": "cf332f0a",
   "metadata": {},
   "outputs": [
    {
     "data": {
      "text/plain": [
       "3"
      ]
     },
     "execution_count": 33,
     "metadata": {},
     "output_type": "execute_result"
    }
   ],
   "source": [
    "poem.index(letter)"
   ]
  },
  {
   "cell_type": "code",
   "execution_count": 34,
   "id": "fa39f53d",
   "metadata": {},
   "outputs": [],
   "source": [
    "vowels = 'ауоыиэяюёе'"
   ]
  },
  {
   "cell_type": "code",
   "execution_count": 35,
   "id": "dbf760fa",
   "metadata": {},
   "outputs": [
    {
     "data": {
      "text/plain": [
       "7"
      ]
     },
     "execution_count": 35,
     "metadata": {},
     "output_type": "execute_result"
    }
   ],
   "source": [
    "vowels.index('ю')"
   ]
  },
  {
   "cell_type": "code",
   "execution_count": 42,
   "id": "747fcee1",
   "metadata": {},
   "outputs": [
    {
     "name": "stdout",
     "output_type": "stream",
     "text": [
      "I found vowel letter у, it is at the 1-th position\n",
      "I found vowel letter я, it is at the 3-th position\n",
      "I found vowel letter о, it is at the 8-th position\n",
      "I found vowel letter ю, it is at the 9-th position\n",
      "I found vowel letter е, it is at the 12-th position\n",
      "I found vowel letter о, it is at the 14-th position\n",
      "I found vowel letter о, it is at the 18-th position\n",
      "I found vowel letter е, it is at the 19-th position\n",
      "I found vowel letter и, it is at the 24-th position\n",
      "I found vowel letter и, it is at the 27-th position\n",
      "I found vowel letter е, it is at the 31-th position\n",
      "I found vowel letter ы, it is at the 34-th position\n",
      "I found vowel letter е, it is at the 35-th position\n",
      "I found vowel letter у, it is at the 39-th position\n",
      "I found vowel letter я, it is at the 41-th position\n",
      "I found vowel letter о, it is at the 45-th position\n",
      "I found vowel letter а, it is at the 49-th position\n",
      "I found vowel letter е, it is at the 54-th position\n",
      "I found vowel letter о, it is at the 59-th position\n",
      "I found vowel letter а, it is at the 61-th position\n",
      "I found vowel letter а, it is at the 64-th position\n",
      "I found vowel letter о, it is at the 66-th position\n",
      "I found vowel letter е, it is at the 67-th position\n",
      "I found vowel letter о, it is at the 72-th position\n",
      "I found vowel letter а, it is at the 75-th position\n",
      "I found vowel letter а, it is at the 78-th position\n",
      "I found vowel letter е, it is at the 80-th position\n",
      "I found vowel letter а, it is at the 85-th position\n",
      "I found vowel letter и, it is at the 89-th position\n",
      "I found vowel letter я, it is at the 91-th position\n",
      "I found vowel letter ы, it is at the 95-th position\n",
      "I found vowel letter е, it is at the 98-th position\n",
      "I found vowel letter о, it is at the 103-th position\n",
      "I found vowel letter а, it is at the 106-th position\n",
      "I found vowel letter я, it is at the 107-th position\n",
      "I found vowel letter о, it is at the 110-th position\n",
      "I found vowel letter у, it is at the 113-th position\n",
      "I found vowel letter а, it is at the 116-th position\n",
      "I found vowel letter е, it is at the 120-th position\n",
      "I found vowel letter о, it is at the 123-th position\n",
      "I found vowel letter ю, it is at the 126-th position\n",
      "I found vowel letter о, it is at the 128-th position\n",
      "I found vowel letter и, it is at the 131-th position\n",
      "I found vowel letter о, it is at the 134-th position\n",
      "I found vowel letter е, it is at the 135-th position\n",
      "45\n",
      "45\n"
     ]
    }
   ],
   "source": [
    "poem_vowels = ''\n",
    "sum = 0\n",
    "i = 0\n",
    "while i < poem_len:\n",
    "    if poem[i].lower() in vowels:\n",
    "        print(f'I found vowel letter {poem[i]}, it is at the {i}-th position')\n",
    "        sum += 1\n",
    "        poem_vowels += poem[i]\n",
    "    i += 1\n",
    "print(len(poem_vowels))\n",
    "print(sum)"
   ]
  },
  {
   "cell_type": "code",
   "execution_count": 37,
   "id": "13d13bcf",
   "metadata": {},
   "outputs": [
    {
     "data": {
      "text/plain": [
       "'а'"
      ]
     },
     "execution_count": 37,
     "metadata": {},
     "output_type": "execute_result"
    }
   ],
   "source": [
    "poem[106]"
   ]
  },
  {
   "cell_type": "code",
   "execution_count": 43,
   "id": "53c9dabe",
   "metadata": {},
   "outputs": [
    {
     "name": "stdout",
     "output_type": "stream",
     "text": [
      "Б\n",
      "у\n",
      "р\n",
      "я\n",
      " \n",
      "м\n",
      "г\n",
      "л\n",
      "о\n",
      "ю\n",
      " \n",
      "н\n",
      "е\n",
      "б\n",
      "о\n",
      " \n",
      "к\n",
      "р\n",
      "о\n",
      "е\n",
      "т\n",
      ",\n",
      " \n",
      "В\n",
      "и\n",
      "х\n",
      "р\n",
      "и\n",
      " \n",
      "с\n",
      "н\n",
      "е\n",
      "ж\n",
      "н\n",
      "ы\n",
      "е\n",
      " \n",
      "к\n",
      "р\n",
      "у\n",
      "т\n",
      "я\n",
      ";\n",
      " \n",
      "Т\n",
      "о\n",
      ",\n",
      " \n",
      "к\n",
      "а\n",
      "к\n",
      " \n",
      "з\n",
      "в\n",
      "е\n",
      "р\n",
      "ь\n",
      ",\n",
      " \n",
      "о\n",
      "н\n",
      "а\n",
      " \n",
      "з\n",
      "а\n",
      "в\n",
      "о\n",
      "е\n",
      "т\n",
      ",\n",
      " \n",
      "Т\n",
      "о\n",
      " \n",
      "з\n",
      "а\n",
      "п\n",
      "л\n",
      "а\n",
      "ч\n",
      "е\n",
      "т\n",
      ",\n",
      " \n",
      "к\n",
      "а\n",
      "к\n",
      " \n",
      "д\n",
      "и\n",
      "т\n",
      "я\n",
      ".\n",
      " \n",
      "В\n",
      "ы\n",
      "п\n",
      "ь\n",
      "е\n",
      "м\n",
      ",\n",
      " \n",
      "д\n",
      "о\n",
      "б\n",
      "р\n",
      "а\n",
      "я\n",
      " \n",
      "п\n",
      "о\n",
      "д\n",
      "р\n",
      "у\n",
      "ж\n",
      "к\n",
      "а\n",
      ".\n",
      " \n",
      "Б\n",
      "е\n",
      "д\n",
      "н\n",
      "о\n",
      "й\n",
      " \n",
      "ю\n",
      "н\n",
      "о\n",
      "с\n",
      "т\n",
      "и\n",
      " \n",
      "м\n",
      "о\n",
      "е\n",
      "й\n"
     ]
    }
   ],
   "source": [
    "for char in poem:\n",
    "    print(char)"
   ]
  },
  {
   "cell_type": "code",
   "execution_count": 45,
   "id": "a016ef1b",
   "metadata": {},
   "outputs": [
    {
     "name": "stdout",
     "output_type": "stream",
     "text": [
      "0\n",
      "1\n",
      "2\n",
      "3\n",
      "4\n",
      "5\n"
     ]
    }
   ],
   "source": [
    "numbers = [0, 1, 2, 3, 4, 5]\n",
    "for num in numbers:\n",
    "    print(num)"
   ]
  },
  {
   "cell_type": "code",
   "execution_count": 49,
   "id": "2fea13d0",
   "metadata": {},
   "outputs": [
    {
     "name": "stdout",
     "output_type": "stream",
     "text": [
      "9\n",
      "12\n",
      "15\n",
      "18\n",
      "21\n",
      "24\n",
      "27\n",
      "30\n",
      "33\n",
      "36\n",
      "39\n",
      "42\n",
      "45\n",
      "48\n",
      "51\n",
      "54\n",
      "57\n",
      "60\n",
      "63\n",
      "66\n",
      "69\n",
      "72\n",
      "75\n",
      "78\n",
      "81\n",
      "84\n",
      "87\n",
      "90\n",
      "93\n",
      "96\n",
      "99\n"
     ]
    }
   ],
   "source": [
    "for num in range(9, 100, 3):\n",
    "    print(num)"
   ]
  },
  {
   "cell_type": "code",
   "execution_count": 53,
   "id": "66172194",
   "metadata": {},
   "outputs": [
    {
     "data": {
      "text/plain": [
       "1335728.6"
      ]
     },
     "execution_count": 53,
     "metadata": {},
     "output_type": "execute_result"
    }
   ],
   "source": [
    "data = [5616565, 514654, 541874, 66, 5484]\n",
    "data_sum = 0\n",
    "for num in data:\n",
    "    data_sum += num\n",
    "\n",
    "data_sum/len(data)"
   ]
  },
  {
   "cell_type": "code",
   "execution_count": 60,
   "id": "465ac38c",
   "metadata": {},
   "outputs": [
    {
     "name": "stdout",
     "output_type": "stream",
     "text": [
      "Male age is greater than female by 8 years\n",
      "Female age is greater than male by 4 years\n",
      "Male age is greater than female by 3 years\n",
      "Female age is greater than male by 11 years\n",
      "Male age is greater than female by 34 years\n",
      "Female age is greater than male by 43 years\n"
     ]
    }
   ],
   "source": [
    "male_age = [19, 25, 38, 55, 79, 12]\n",
    "female_age = [11, 29, 35, 66, 45, 55]\n",
    "for i in range(len(male_age)):\n",
    "    if male_age[i] > female_age[i]:\n",
    "            print(f'Male age is greater than female by {male_age[i] - female_age[i]} years')\n",
    "    else:\n",
    "            print(f'Female age is greater than male by {female_age[i] - male_age[i]} years')\n",
    "        "
   ]
  },
  {
   "cell_type": "code",
   "execution_count": null,
   "id": "a9bbeb2b",
   "metadata": {},
   "outputs": [],
   "source": []
  }
 ],
 "metadata": {
  "kernelspec": {
   "display_name": "Python 3 (ipykernel)",
   "language": "python",
   "name": "python3"
  },
  "language_info": {
   "codemirror_mode": {
    "name": "ipython",
    "version": 3
   },
   "file_extension": ".py",
   "mimetype": "text/x-python",
   "name": "python",
   "nbconvert_exporter": "python",
   "pygments_lexer": "ipython3",
   "version": "3.9.13"
  }
 },
 "nbformat": 4,
 "nbformat_minor": 5
}
