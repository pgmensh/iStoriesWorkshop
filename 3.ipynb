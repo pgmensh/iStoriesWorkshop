{
 "cells": [
  {
   "cell_type": "markdown",
   "id": "761fbcf5",
   "metadata": {},
   "source": [
    "# Условия if, else, elif\n",
    "Задача по налогам\n",
    "ИП1: 15%\n",
    "ИП2: 6%\n",
    "СЗ: 6%\n",
    "ФЛ: 13%"
   ]
  },
  {
   "cell_type": "code",
   "execution_count": 17,
   "id": "37bf1456",
   "metadata": {},
   "outputs": [
    {
     "name": "stdout",
     "output_type": "stream",
     "text": [
      "Polina Menshikov\n"
     ]
    }
   ],
   "source": [
    "name = input()"
   ]
  },
  {
   "cell_type": "code",
   "execution_count": 20,
   "id": "77be256b",
   "metadata": {},
   "outputs": [
    {
     "data": {
      "text/plain": [
       "'Polina Menshikov'"
      ]
     },
     "execution_count": 20,
     "metadata": {},
     "output_type": "execute_result"
    }
   ],
   "source": [
    "name"
   ]
  },
  {
   "cell_type": "code",
   "execution_count": 7,
   "id": "7847af6d",
   "metadata": {},
   "outputs": [
    {
     "name": "stdout",
     "output_type": "stream",
     "text": [
      "30\n"
     ]
    }
   ],
   "source": [
    "age = int(input())"
   ]
  },
  {
   "cell_type": "code",
   "execution_count": 8,
   "id": "937a0068",
   "metadata": {},
   "outputs": [
    {
     "data": {
      "text/plain": [
       "30"
      ]
     },
     "execution_count": 8,
     "metadata": {},
     "output_type": "execute_result"
    }
   ],
   "source": [
    "age"
   ]
  },
  {
   "cell_type": "code",
   "execution_count": 9,
   "id": "2a12339f",
   "metadata": {},
   "outputs": [
    {
     "data": {
      "text/plain": [
       "int"
      ]
     },
     "execution_count": 9,
     "metadata": {},
     "output_type": "execute_result"
    }
   ],
   "source": [
    "type(age)"
   ]
  },
  {
   "cell_type": "code",
   "execution_count": 10,
   "id": "0d0feeea",
   "metadata": {},
   "outputs": [
    {
     "name": "stdout",
     "output_type": "stream",
     "text": [
      "Welcome\n"
     ]
    }
   ],
   "source": [
    "if age < 18:\n",
    "    print(\"You're not allowed\")\n",
    "else:\n",
    "    print(\"Welcome\")"
   ]
  },
  {
   "cell_type": "code",
   "execution_count": 23,
   "id": "386a70a6",
   "metadata": {},
   "outputs": [
    {
     "name": "stdout",
     "output_type": "stream",
     "text": [
      "FL\n"
     ]
    }
   ],
   "source": [
    "business_type = input()"
   ]
  },
  {
   "cell_type": "code",
   "execution_count": 24,
   "id": "cb0436e2",
   "metadata": {},
   "outputs": [
    {
     "name": "stdout",
     "output_type": "stream",
     "text": [
      "10000\n"
     ]
    }
   ],
   "source": [
    "income = int(input())"
   ]
  },
  {
   "cell_type": "code",
   "execution_count": 25,
   "id": "5f912ee4",
   "metadata": {},
   "outputs": [
    {
     "name": "stdout",
     "output_type": "stream",
     "text": [
      "Polina your tax is 1300 rub, net income is 8700 rub.\n"
     ]
    }
   ],
   "source": [
    "if business_type == 'IP1':\n",
    "    tax = int(income * 0.15)\n",
    "    net_income = int(income - tax)\n",
    "    print(f'{name.split()[0]} your tax is {tax} rub, net income is {net_income} rub.')\n",
    "elif business_type == 'IP2' or business_type == 'SZ':\n",
    "    tax = int(income * 0.06)\n",
    "    net_income = int(income - tax)\n",
    "    print(f'{name.split()[0]} your tax is {tax} rub, net income is {net_income} rub.')\n",
    "else:\n",
    "    tax = int(income * 0.13)\n",
    "    net_income = int(income - tax)\n",
    "    print(f'{name.split()[0]} your tax is {tax} rub, net income is {net_income} rub.')"
   ]
  },
  {
   "cell_type": "code",
   "execution_count": null,
   "id": "0a6d1edd",
   "metadata": {},
   "outputs": [],
   "source": []
  }
 ],
 "metadata": {
  "kernelspec": {
   "display_name": "Python 3 (ipykernel)",
   "language": "python",
   "name": "python3"
  },
  "language_info": {
   "codemirror_mode": {
    "name": "ipython",
    "version": 3
   },
   "file_extension": ".py",
   "mimetype": "text/x-python",
   "name": "python",
   "nbconvert_exporter": "python",
   "pygments_lexer": "ipython3",
   "version": "3.9.13"
  }
 },
 "nbformat": 4,
 "nbformat_minor": 5
}
