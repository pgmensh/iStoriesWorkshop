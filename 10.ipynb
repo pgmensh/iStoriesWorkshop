{
 "cells": [
  {
   "cell_type": "code",
   "execution_count": 1,
   "id": "3a4daf85",
   "metadata": {},
   "outputs": [
    {
     "data": {
      "text/plain": [
       "[2000,\n",
       " 2001,\n",
       " 2002,\n",
       " 2003,\n",
       " 2004,\n",
       " 2005,\n",
       " 2006,\n",
       " 2007,\n",
       " 2008,\n",
       " 2009,\n",
       " 2010,\n",
       " 2011,\n",
       " 2012,\n",
       " 2013,\n",
       " 2014,\n",
       " 2015,\n",
       " 2016,\n",
       " 2017,\n",
       " 2018,\n",
       " 2019,\n",
       " 2020,\n",
       " 2021,\n",
       " 2022]"
      ]
     },
     "execution_count": 1,
     "metadata": {},
     "output_type": "execute_result"
    }
   ],
   "source": [
    "years = []\n",
    "for i in range(2000, 2023):\n",
    "    years.append(i)\n",
    "years"
   ]
  },
  {
   "cell_type": "code",
   "execution_count": 5,
   "id": "f48eaac9",
   "metadata": {},
   "outputs": [
    {
     "data": {
      "text/plain": [
       "[2000,\n",
       " 2001,\n",
       " 2002,\n",
       " 2003,\n",
       " 2004,\n",
       " 2005,\n",
       " 2006,\n",
       " 2007,\n",
       " 2008,\n",
       " 2009,\n",
       " 2010,\n",
       " 2011,\n",
       " 2012,\n",
       " 2013,\n",
       " 2014,\n",
       " 2015,\n",
       " 2016,\n",
       " 2017,\n",
       " 2018,\n",
       " 2019]"
      ]
     },
     "execution_count": 5,
     "metadata": {},
     "output_type": "execute_result"
    }
   ],
   "source": [
    "years = [i for i in range(2000, 2020)]\n",
    "years"
   ]
  },
  {
   "cell_type": "code",
   "execution_count": 3,
   "id": "15573eeb",
   "metadata": {},
   "outputs": [
    {
     "data": {
      "text/plain": [
       "[4000,\n",
       " 4002,\n",
       " 4004,\n",
       " 4006,\n",
       " 4008,\n",
       " 4010,\n",
       " 4012,\n",
       " 4014,\n",
       " 4016,\n",
       " 4018,\n",
       " 4020,\n",
       " 4022,\n",
       " 4024,\n",
       " 4026,\n",
       " 4028,\n",
       " 4030,\n",
       " 4032,\n",
       " 4034,\n",
       " 4036,\n",
       " 4038,\n",
       " 4040,\n",
       " 4042,\n",
       " 4044]"
      ]
     },
     "execution_count": 3,
     "metadata": {},
     "output_type": "execute_result"
    }
   ],
   "source": [
    "years2 = [i*2 for i in range(2000, 2023)]\n",
    "years2"
   ]
  },
  {
   "cell_type": "code",
   "execution_count": 15,
   "id": "261d510b",
   "metadata": {},
   "outputs": [],
   "source": [
    "poverty = [42.3, 40, 35.6, 29.3, 25.2, 25.4, 21.6, 18.8, 19, 18.4, 17.7, 17.9, 15.4, 15.5, 16.3, 19.6, 19.4, \n",
    "           18.9, 18.4, 18.1]\n",
    "#количество людей, живущиих за чертой бедности в России в млн человек"
   ]
  },
  {
   "cell_type": "code",
   "execution_count": 16,
   "id": "05d3f181",
   "metadata": {},
   "outputs": [],
   "source": [
    "poverty_data = {x:y for x,y in zip(years,poverty)}"
   ]
  },
  {
   "cell_type": "code",
   "execution_count": 17,
   "id": "1d80c212",
   "metadata": {},
   "outputs": [
    {
     "data": {
      "text/plain": [
       "{2000: 42.3,\n",
       " 2001: 40,\n",
       " 2002: 35.6,\n",
       " 2003: 29.3,\n",
       " 2004: 25.2,\n",
       " 2005: 25.4,\n",
       " 2006: 21.6,\n",
       " 2007: 18.8,\n",
       " 2008: 19,\n",
       " 2009: 18.4,\n",
       " 2010: 17.7,\n",
       " 2011: 17.9,\n",
       " 2012: 15.4,\n",
       " 2013: 15.5,\n",
       " 2014: 16.3,\n",
       " 2015: 19.6,\n",
       " 2016: 19.4,\n",
       " 2017: 18.9,\n",
       " 2018: 18.4,\n",
       " 2019: 18.1}"
      ]
     },
     "execution_count": 17,
     "metadata": {},
     "output_type": "execute_result"
    }
   ],
   "source": [
    "poverty_data"
   ]
  },
  {
   "cell_type": "code",
   "execution_count": 18,
   "id": "fe35febd",
   "metadata": {},
   "outputs": [],
   "source": [
    "population = [146.6, 146.3, 145.2, 145, 144.3, 143.8, 143.2, 142.8, 142.8, 142.7, 142.9, 142.9, 143.0, 143.3, 143.7, \n",
    "              146.3, 146.5, 146.8, 146.9, 146.8]\n",
    "#численность населения России в млн человек"
   ]
  },
  {
   "cell_type": "code",
   "execution_count": 21,
   "id": "08df06d3",
   "metadata": {},
   "outputs": [],
   "source": [
    "poverty_level = list([x/y*100 for x,y in zip(poverty, population)])"
   ]
  },
  {
   "cell_type": "code",
   "execution_count": 22,
   "id": "7b348ef9",
   "metadata": {},
   "outputs": [
    {
     "data": {
      "text/plain": [
       "[28.854024556616643,\n",
       " 27.341079972658918,\n",
       " 24.517906336088156,\n",
       " 20.20689655172414,\n",
       " 17.46361746361746,\n",
       " 17.663421418636993,\n",
       " 15.083798882681569,\n",
       " 13.165266106442578,\n",
       " 13.305322128851541,\n",
       " 12.894183601962158,\n",
       " 12.38628411476557,\n",
       " 12.526242127361789,\n",
       " 10.76923076923077,\n",
       " 10.816468946266573,\n",
       " 11.343075852470426,\n",
       " 13.397129186602871,\n",
       " 13.242320819112626,\n",
       " 12.874659400544958,\n",
       " 12.525527569775354,\n",
       " 12.329700272479565]"
      ]
     },
     "execution_count": 22,
     "metadata": {},
     "output_type": "execute_result"
    }
   ],
   "source": [
    "poverty_level"
   ]
  },
  {
   "cell_type": "code",
   "execution_count": 24,
   "id": "38eaf5b1",
   "metadata": {},
   "outputs": [
    {
     "data": {
      "text/plain": [
       "13"
      ]
     },
     "execution_count": 24,
     "metadata": {},
     "output_type": "execute_result"
    }
   ],
   "source": [
    "round(13.397129186602871)"
   ]
  },
  {
   "cell_type": "code",
   "execution_count": 25,
   "id": "39e8d69d",
   "metadata": {},
   "outputs": [],
   "source": [
    "poverty_level = [round(x,1) for x in poverty_level]"
   ]
  },
  {
   "cell_type": "code",
   "execution_count": 26,
   "id": "d638eb69",
   "metadata": {},
   "outputs": [
    {
     "data": {
      "text/plain": [
       "[28.9,\n",
       " 27.3,\n",
       " 24.5,\n",
       " 20.2,\n",
       " 17.5,\n",
       " 17.7,\n",
       " 15.1,\n",
       " 13.2,\n",
       " 13.3,\n",
       " 12.9,\n",
       " 12.4,\n",
       " 12.5,\n",
       " 10.8,\n",
       " 10.8,\n",
       " 11.3,\n",
       " 13.4,\n",
       " 13.2,\n",
       " 12.9,\n",
       " 12.5,\n",
       " 12.3]"
      ]
     },
     "execution_count": 26,
     "metadata": {},
     "output_type": "execute_result"
    }
   ],
   "source": [
    "poverty_level"
   ]
  },
  {
   "cell_type": "code",
   "execution_count": 27,
   "id": "2728a1ac",
   "metadata": {},
   "outputs": [],
   "source": [
    "poverty_percent = {x:y for x, y in zip(years, poverty_level)}"
   ]
  },
  {
   "cell_type": "code",
   "execution_count": 28,
   "id": "2ba003b4",
   "metadata": {},
   "outputs": [
    {
     "data": {
      "text/plain": [
       "{2000: 28.9,\n",
       " 2001: 27.3,\n",
       " 2002: 24.5,\n",
       " 2003: 20.2,\n",
       " 2004: 17.5,\n",
       " 2005: 17.7,\n",
       " 2006: 15.1,\n",
       " 2007: 13.2,\n",
       " 2008: 13.3,\n",
       " 2009: 12.9,\n",
       " 2010: 12.4,\n",
       " 2011: 12.5,\n",
       " 2012: 10.8,\n",
       " 2013: 10.8,\n",
       " 2014: 11.3,\n",
       " 2015: 13.4,\n",
       " 2016: 13.2,\n",
       " 2017: 12.9,\n",
       " 2018: 12.5,\n",
       " 2019: 12.3}"
      ]
     },
     "execution_count": 28,
     "metadata": {},
     "output_type": "execute_result"
    }
   ],
   "source": [
    "poverty_percent"
   ]
  },
  {
   "cell_type": "code",
   "execution_count": 29,
   "id": "e93da3fc",
   "metadata": {},
   "outputs": [
    {
     "data": {
      "text/plain": [
       "[(2000, 28.9),\n",
       " (2001, 27.3),\n",
       " (2002, 24.5),\n",
       " (2003, 20.2),\n",
       " (2005, 17.7),\n",
       " (2004, 17.5),\n",
       " (2006, 15.1),\n",
       " (2015, 13.4),\n",
       " (2008, 13.3),\n",
       " (2007, 13.2),\n",
       " (2016, 13.2),\n",
       " (2009, 12.9),\n",
       " (2017, 12.9),\n",
       " (2011, 12.5),\n",
       " (2018, 12.5),\n",
       " (2010, 12.4),\n",
       " (2019, 12.3),\n",
       " (2014, 11.3),\n",
       " (2012, 10.8),\n",
       " (2013, 10.8)]"
      ]
     },
     "execution_count": 29,
     "metadata": {},
     "output_type": "execute_result"
    }
   ],
   "source": [
    "sorted_list = sorted(poverty_percent.items(), key=lambda x: x[1], reverse=True)\n",
    "sorted_list"
   ]
  },
  {
   "cell_type": "code",
   "execution_count": 31,
   "id": "86d02b3a",
   "metadata": {},
   "outputs": [
    {
     "data": {
      "text/plain": [
       "[(2015, 13.4), (2016, 13.2), (2017, 12.9), (2018, 12.5), (2019, 12.3)]"
      ]
     },
     "execution_count": 31,
     "metadata": {},
     "output_type": "execute_result"
    }
   ],
   "source": [
    "[x for x in sorted_list if x[0] > 2014]"
   ]
  },
  {
   "cell_type": "code",
   "execution_count": 32,
   "id": "58a1e42b",
   "metadata": {},
   "outputs": [
    {
     "data": {
      "text/plain": [
       "[(2015, 13.4), (2016, 13.2)]"
      ]
     },
     "execution_count": 32,
     "metadata": {},
     "output_type": "execute_result"
    }
   ],
   "source": [
    "[x for x in sorted_list if x[0] > 2014 and x[1]>13]"
   ]
  },
  {
   "cell_type": "code",
   "execution_count": 33,
   "id": "4af5950f",
   "metadata": {},
   "outputs": [
    {
     "data": {
      "text/plain": [
       "13"
      ]
     },
     "execution_count": 33,
     "metadata": {},
     "output_type": "execute_result"
    }
   ],
   "source": [
    "len([x for x in sorted_list if x[1]<13.5])"
   ]
  },
  {
   "cell_type": "code",
   "execution_count": null,
   "id": "62cdaa5d",
   "metadata": {},
   "outputs": [],
   "source": []
  }
 ],
 "metadata": {
  "kernelspec": {
   "display_name": "Python 3 (ipykernel)",
   "language": "python",
   "name": "python3"
  },
  "language_info": {
   "codemirror_mode": {
    "name": "ipython",
    "version": 3
   },
   "file_extension": ".py",
   "mimetype": "text/x-python",
   "name": "python",
   "nbconvert_exporter": "python",
   "pygments_lexer": "ipython3",
   "version": "3.9.13"
  }
 },
 "nbformat": 4,
 "nbformat_minor": 5
}
