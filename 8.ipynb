{
 "cells": [
  {
   "cell_type": "code",
   "execution_count": 2,
   "id": "8da2bd83",
   "metadata": {},
   "outputs": [
    {
     "data": {
      "text/plain": [
       "6"
      ]
     },
     "execution_count": 2,
     "metadata": {},
     "output_type": "execute_result"
    }
   ],
   "source": [
    "my_list = [1, 2, 3]\n",
    "sum(my_list)"
   ]
  },
  {
   "cell_type": "code",
   "execution_count": 6,
   "id": "10470d8d",
   "metadata": {},
   "outputs": [],
   "source": [
    "def sum_list(a_list):\n",
    "    summa = 0\n",
    "    \n",
    "    for num in a_list:\n",
    "        summa += num\n",
    "    return summa"
   ]
  },
  {
   "cell_type": "code",
   "execution_count": 7,
   "id": "a4b5c512",
   "metadata": {},
   "outputs": [
    {
     "data": {
      "text/plain": [
       "6"
      ]
     },
     "execution_count": 7,
     "metadata": {},
     "output_type": "execute_result"
    }
   ],
   "source": [
    "sum_list(my_list)"
   ]
  },
  {
   "cell_type": "code",
   "execution_count": 8,
   "id": "af62d9ae",
   "metadata": {},
   "outputs": [
    {
     "data": {
      "text/plain": [
       "16"
      ]
     },
     "execution_count": 8,
     "metadata": {},
     "output_type": "execute_result"
    }
   ],
   "source": [
    "sum_list([1, 5, 10])"
   ]
  },
  {
   "cell_type": "code",
   "execution_count": 9,
   "id": "9f8c7c84",
   "metadata": {},
   "outputs": [],
   "source": [
    "def get_name():\n",
    "    name = input('Please type your name: ')\n",
    "    return name"
   ]
  },
  {
   "cell_type": "code",
   "execution_count": 10,
   "id": "0798cc12",
   "metadata": {},
   "outputs": [
    {
     "name": "stdout",
     "output_type": "stream",
     "text": [
      "Please type your name: Polina\n"
     ]
    },
    {
     "data": {
      "text/plain": [
       "'Polina'"
      ]
     },
     "execution_count": 10,
     "metadata": {},
     "output_type": "execute_result"
    }
   ],
   "source": [
    "get_name()"
   ]
  },
  {
   "cell_type": "code",
   "execution_count": 13,
   "id": "1fbf120a",
   "metadata": {},
   "outputs": [],
   "source": [
    "def say_hi_to(name, small_talk = \"How are you?\"):\n",
    "    return f\"Hi, {name}! {small_talk}\""
   ]
  },
  {
   "cell_type": "code",
   "execution_count": 14,
   "id": "974f1d33",
   "metadata": {},
   "outputs": [
    {
     "name": "stdout",
     "output_type": "stream",
     "text": [
      "Please type your name: Polya\n"
     ]
    },
    {
     "data": {
      "text/plain": [
       "'Hi, Polya! How are you?'"
      ]
     },
     "execution_count": 14,
     "metadata": {},
     "output_type": "execute_result"
    }
   ],
   "source": [
    "say_hi_to(get_name())"
   ]
  },
  {
   "cell_type": "code",
   "execution_count": 18,
   "id": "41b638fa",
   "metadata": {},
   "outputs": [],
   "source": [
    "def clean_tel(tel_num):\n",
    "    clean_tel = tel_num.replace('+', '').replace(' ', '').replace('-', '').replace('(', '').replace(')', '')\n",
    "    return clean_tel"
   ]
  },
  {
   "cell_type": "code",
   "execution_count": 19,
   "id": "c76a84cf",
   "metadata": {},
   "outputs": [
    {
     "data": {
      "text/plain": [
       "'79994501951'"
      ]
     },
     "execution_count": 19,
     "metadata": {},
     "output_type": "execute_result"
    }
   ],
   "source": [
    "clean_tel('+7-999-450-19-51)')"
   ]
  },
  {
   "cell_type": "code",
   "execution_count": 20,
   "id": "75c02bd9",
   "metadata": {},
   "outputs": [],
   "source": [
    "phone_book = {'fio1': '+7 999 450 19 51', 'fio2': '892310133-49', 'fio3': '+7(913) 453 83 89'}"
   ]
  },
  {
   "cell_type": "code",
   "execution_count": 26,
   "id": "1f3864bb",
   "metadata": {},
   "outputs": [],
   "source": [
    "def clean_book(book, data = []):\n",
    "    for name, tel in book.items():\n",
    "        c_tel = clean_tel(tel)\n",
    "        data.append([name, c_tel])\n",
    "    return data"
   ]
  },
  {
   "cell_type": "code",
   "execution_count": 27,
   "id": "5ff524f9",
   "metadata": {},
   "outputs": [
    {
     "data": {
      "text/plain": [
       "[['fio1', '79994501951'], ['fio2', '89231013349'], ['fio3', '79134538389']]"
      ]
     },
     "execution_count": 27,
     "metadata": {},
     "output_type": "execute_result"
    }
   ],
   "source": [
    "clean_book(phone_book)"
   ]
  },
  {
   "cell_type": "code",
   "execution_count": 28,
   "id": "c1ee4611",
   "metadata": {},
   "outputs": [],
   "source": [
    "func = lambda x, y : x+y"
   ]
  },
  {
   "cell_type": "code",
   "execution_count": 29,
   "id": "1ffa2888",
   "metadata": {},
   "outputs": [
    {
     "data": {
      "text/plain": [
       "3"
      ]
     },
     "execution_count": 29,
     "metadata": {},
     "output_type": "execute_result"
    }
   ],
   "source": [
    "func(1,2)"
   ]
  },
  {
   "cell_type": "code",
   "execution_count": 30,
   "id": "d3b5077c",
   "metadata": {},
   "outputs": [],
   "source": [
    "say_hi = lambda name: f\"Hi, {name.title()}!\""
   ]
  },
  {
   "cell_type": "code",
   "execution_count": 31,
   "id": "5b24dfe7",
   "metadata": {},
   "outputs": [
    {
     "data": {
      "text/plain": [
       "'Hi, Polina!'"
      ]
     },
     "execution_count": 31,
     "metadata": {},
     "output_type": "execute_result"
    }
   ],
   "source": [
    "say_hi('polina')"
   ]
  },
  {
   "cell_type": "code",
   "execution_count": null,
   "id": "6ace684a",
   "metadata": {},
   "outputs": [],
   "source": []
  }
 ],
 "metadata": {
  "kernelspec": {
   "display_name": "Python 3 (ipykernel)",
   "language": "python",
   "name": "python3"
  },
  "language_info": {
   "codemirror_mode": {
    "name": "ipython",
    "version": 3
   },
   "file_extension": ".py",
   "mimetype": "text/x-python",
   "name": "python",
   "nbconvert_exporter": "python",
   "pygments_lexer": "ipython3",
   "version": "3.9.13"
  }
 },
 "nbformat": 4,
 "nbformat_minor": 5
}
